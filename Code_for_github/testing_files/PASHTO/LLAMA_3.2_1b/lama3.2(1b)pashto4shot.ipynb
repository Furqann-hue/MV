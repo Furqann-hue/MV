{
 "cells": [
  {
   "cell_type": "code",
   "execution_count": 1,
   "id": "bbde9da5-acf3-4362-bb2e-338c154d8a63",
   "metadata": {},
   "outputs": [],
   "source": [
    "# --- Imports ---\n",
    "import os\n",
    "import random\n",
    "import numpy as np\n",
    "import pandas as pd\n",
    "import torch\n",
    "from transformers import AutoTokenizer, AutoModelForCausalLM\n",
    "from sklearn.metrics import classification_report, accuracy_score\n",
    "import re"
   ]
  },
  {
   "cell_type": "code",
   "execution_count": 2,
   "id": "d4624f9a-4c47-48ba-880e-726adeecc79d",
   "metadata": {},
   "outputs": [],
   "source": [
    "# --- Configuration ---\n",
    "MODEL_NAME = \"meta-llama/Llama-3.2-1B-Instruct\"\n",
    "\n",
    "CSV_PATH = r\"C:\\Users\\stdFurqan\\Desktop\\pastho_rob\\dataset_test_30 - Sheet1.csv\"\n",
    "TEXT_COL = \"Text\"\n",
    "LABEL_COL = \"label\"\n",
    "LABELS = [\"Positive\", \"Negative\", \"Neutral\"]\n",
    "SEED = 20\n",
    "DEVICE = \"cuda\" if torch.cuda.is_available() else \"cpu\"\n",
    "\n",
    "# --- Reproducibility ---\n",
    "def set_seed(seed=20):\n",
    "    random.seed(seed)\n",
    "    np.random.seed(seed)\n",
    "    torch.manual_seed(seed)\n",
    "    if torch.cuda.is_available():\n",
    "        torch.cuda.manual_seed_all(seed)\n",
    "set_seed(SEED)"
   ]
  },
  {
   "cell_type": "code",
   "execution_count": 3,
   "id": "14cca0f3-6495-4fd9-a775-6aaaa4fb4077",
   "metadata": {},
   "outputs": [
    {
     "name": "stdout",
     "output_type": "stream",
     "text": [
      "🧠 Loading model from C:\\Users\\stdFurqan\\Downloads\\lama_models_download\\LAMA_3.2(1b) ...\n",
      "✅ Model loaded successfully from local directory!\n"
     ]
    }
   ],
   "source": [
    "# ✅ Local path where model is stored\n",
    "MODEL_PATH = r\"C:\\Users\\stdFurqan\\Downloads\\lama_models_download\\LAMA_3.2(1b)\"\n",
    "\n",
    "print(f\"🧠 Loading model from {MODEL_PATH} ...\")\n",
    "\n",
    "# ✅ Load tokenizer from local folder\n",
    "tokenizer = AutoTokenizer.from_pretrained(MODEL_PATH)\n",
    "tokenizer.pad_token = tokenizer.eos_token\n",
    "tokenizer.padding_side = \"left\"\n",
    "\n",
    "# ✅ Load model from local folder\n",
    "model = AutoModelForCausalLM.from_pretrained(\n",
    "    MODEL_PATH,\n",
    "    torch_dtype=torch.bfloat16,   # ✅ best for 40-series\n",
    "    device_map=\"auto\"\n",
    ")\n",
    "\n",
    "model.config.pad_token_id = tokenizer.pad_token_id\n",
    "model.eval()\n",
    "\n",
    "print(\"✅ Model loaded successfully from local directory!\")"
   ]
  },
  {
   "cell_type": "code",
   "execution_count": 4,
   "id": "4b6ff18d-d716-4336-8b51-a7ae8612f9ce",
   "metadata": {},
   "outputs": [],
   "source": [
    "# print(\"You are an intelligent Pashto language assistant. \"\n",
    "#     \"Classify the sentiment of the given text as Positive, Negative, or Neutral based on the examples below.\\n\\n\"\n",
    "    \n",
    "#     \"=== Positive Examples ===\\n\"\n",
    "#     \"1 Text: د يک‌شنبې له نښتې وروسته د سپين بولدک-چمن لارې تړل کېدل\\n   Label: Positive\\n\"\n",
    "#     \"2 Text: سرچينې ليکلي: «هېڅوک بايد د خپلو بنسټيزو حقونو او د نورو د حقونو په دفاع کې د خبرو کولو له امله ونه نيول شي.»\\n   Label: Positive\\n\"\n",
    "#     \"3 Text: هلمند کې د يوه جمنازيوم جوړولو چارې پيل شوې\\n   Label: Positive\\n\"\n",
    "#     \"4 Text: د ننګرهار د کرنې رياست د کرنې امر نعمت‌الله اکبري پژواک اژانس ته وويل، په دغه ولايت کې د تېر کال په پرتله د ګنيو په حاصلاتو کې شاوخوا ۱۷ زره ټنه ډېروالى راغلي دي.\\n   Label: Positive\\n\\n\"\n",
    "\n",
    "#     \"=== Negative Examples ===\\n\"\n",
    "#     \"5 Text: ننګرهار کې د ترافيکي پېښې له امله څلورو کسانو ته مرګ‌ژوبله اوښتې ده\\n   Label: Negative\\n\"\n",
    "#     \"6 Text: نوموړي وايي، دوي څلور ډوله خلکو ته د پاسپورت ترلاسه کولو کې لومړيتوب ورکوي، محصلين، لوبغاړي، سوداګر او عاجل ناروغان.\\n   Label: Negative\\n\"\n",
    "#     \"7 Text: هغه ويلي وؤ امارت اسلامي افغانستان دبرتانيه سره دپرله پسې تماسونو نه وروسته دغه نيول شوي کسان خوشې کړي اؤ خپل هيواد ته يې سپارلي دي.\\n   Label: Negative\\n\"\n",
    "#     \"8 Text: سرچينې زياته کړې، په دې توګه ملګرو ملتونو خپلو ټولو نارينه او ښځينه کارکوونکو ته لارښوونه وکړه چې تر دويم لارښوود پورې دندو ته ولاړ نه شي.\\n   Label: Negative\\n\\n\"\n",
    "\n",
    "#     \"=== Neutral Examples ===\\n\"\n",
    "#     \"9 Text: سرچينې زياته کړې، چې اوس‌مهال د ملګرو ملتونو لږ شمېر کارکوونکي د اړينو کارونو د ترسراوي په موخه دندې ته حاضرېږي.\\n   Label: Neutral\\n\"\n",
    "#     \"10 Text: اوچا: که بېړنۍ مرستې و نه رسېږي، ميليونونه افغانان به د قحطۍ له ګواښ سره مخ شي\\n   Label: Neutral\\n\"\n",
    "#     \"11 Text: د جاپان په وزيراعظم بريد،ملزم ونيولې شو\\n   Label: Neutral\\n\"\n",
    "#     \"12 Text: اقتصاد پوهان وايي څو پورې چې نړيوالې مالياتي ادارې د پاکستان د پور پروګرام نه وي بحال کړي او دوست هېوادونو ورته پېسې نه وي ورکړي اقتصادي مشکلات به يې سېوا کيږي.\\n   Label: Neutral\\n\\n\"\n",
    "    \n",
    "#     \"Now classify the following text in the same way.\\n\\n\"\n",
    "#     \"Text: {text}\\n\\n\"\n",
    "#     \"Label:\")"
   ]
  },
  {
   "cell_type": "code",
   "execution_count": 5,
   "id": "82e4fa59-3c52-474e-af00-3c7cfa2fe9de",
   "metadata": {},
   "outputs": [
    {
     "name": "stderr",
     "output_type": "stream",
     "text": [
      "C:\\Users\\stdFurqan\\anaconda3\\envs\\py312\\Lib\\site-packages\\transformers\\generation\\configuration_utils.py:567: UserWarning: `do_sample` is set to `False`. However, `temperature` is set to `0.0` -- this flag is only used in sample-based generation modes. You should set `do_sample=True` or unset `temperature`.\n",
      "  warnings.warn(\n"
     ]
    },
    {
     "name": "stdout",
     "output_type": "stream",
     "text": [
      "\n",
      "📊 Classification Report:\n",
      "\n",
      "              precision    recall  f1-score   support\n",
      "\n",
      "    Positive     0.4124    0.3833    0.3974      1573\n",
      "    Negative     0.3327    0.2883    0.3089      1221\n",
      "     Neutral     0.2879    0.3612    0.3204      1077\n",
      "\n",
      "    accuracy                         0.3472      3871\n",
      "   macro avg     0.3444    0.3443    0.3422      3871\n",
      "weighted avg     0.3527    0.3472    0.3481      3871\n",
      "\n",
      "Accuracy: 0.3472\n"
     ]
    }
   ],
   "source": [
    "\n",
    "\n",
    "# --- Load dataset ---\n",
    "df = pd.read_csv(CSV_PATH)\n",
    "texts = df[TEXT_COL].astype(str).tolist()\n",
    "true_labels = df[LABEL_COL].astype(str).tolist()\n",
    "\n",
    "PROMPT_TEMPLATE = (\n",
    "    \"You are an intelligent Pashto language assistant. \"\n",
    "    \"Classify the sentiment of the given text as Positive, Negative, or Neutral based on the examples below.\\n\\n\"\n",
    "    \n",
    "    \"=== Positive Examples ===\\n\"\n",
    "    \"1 Text: د يک‌شنبې له نښتې وروسته د سپين بولدک-چمن لارې تړل کېدل\\n   Label: Positive\\n\"\n",
    "    \"2 Text: سرچينې ليکلي: «هېڅوک بايد د خپلو بنسټيزو حقونو او د نورو د حقونو په دفاع کې د خبرو کولو له امله ونه نيول شي.»\\n   Label: Positive\\n\"\n",
    "    \"3 Text: هلمند کې د يوه جمنازيوم جوړولو چارې پيل شوې\\n   Label: Positive\\n\"\n",
    "    \"4 Text: د ننګرهار د کرنې رياست د کرنې امر نعمت‌الله اکبري پژواک اژانس ته وويل، په دغه ولايت کې د تېر کال په پرتله د ګنيو په حاصلاتو کې شاوخوا ۱۷ زره ټنه ډېروالى راغلي دي.\\n   Label: Positive\\n\\n\"\n",
    "\n",
    "    \"=== Negative Examples ===\\n\"\n",
    "    \"5 Text: ننګرهار کې د ترافيکي پېښې له امله څلورو کسانو ته مرګ‌ژوبله اوښتې ده\\n   Label: Negative\\n\"\n",
    "    \"6 Text: نوموړي وايي، دوي څلور ډوله خلکو ته د پاسپورت ترلاسه کولو کې لومړيتوب ورکوي، محصلين، لوبغاړي، سوداګر او عاجل ناروغان.\\n   Label: Negative\\n\"\n",
    "    \"7 Text: هغه ويلي وؤ امارت اسلامي افغانستان دبرتانيه سره دپرله پسې تماسونو نه وروسته دغه نيول شوي کسان خوشې کړي اؤ خپل هيواد ته يې سپارلي دي.\\n   Label: Negative\\n\"\n",
    "    \"8 Text: سرچينې زياته کړې، په دې توګه ملګرو ملتونو خپلو ټولو نارينه او ښځينه کارکوونکو ته لارښوونه وکړه چې تر دويم لارښوود پورې دندو ته ولاړ نه شي.\\n   Label: Negative\\n\\n\"\n",
    "\n",
    "    \"=== Neutral Examples ===\\n\"\n",
    "    \"9 Text: سرچينې زياته کړې، چې اوس‌مهال د ملګرو ملتونو لږ شمېر کارکوونکي د اړينو کارونو د ترسراوي په موخه دندې ته حاضرېږي.\\n   Label: Neutral\\n\"\n",
    "    \"10 Text: اوچا: که بېړنۍ مرستې و نه رسېږي، ميليونونه افغانان به د قحطۍ له ګواښ سره مخ شي\\n   Label: Neutral\\n\"\n",
    "    \"11 Text: د جاپان په وزيراعظم بريد،ملزم ونيولې شو\\n   Label: Neutral\\n\"\n",
    "    \"12 Text: اقتصاد پوهان وايي څو پورې چې نړيوالې مالياتي ادارې د پاکستان د پور پروګرام نه وي بحال کړي او دوست هېوادونو ورته پېسې نه وي ورکړي اقتصادي مشکلات به يې سېوا کيږي.\\n   Label: Neutral\\n\\n\"\n",
    "\n",
    "    \"Reply with only one word: Positive, Negative, or Neutral.\\n\"\n",
    "    \"Now classify the following text in the same way.\\n\\n\"\n",
    "    \"Text: {text}\\n\\n\"\n",
    "    \"Label:\"\n",
    ")\n",
    "\n",
    "\n",
    "pattern = re.compile(r\"\\b(Positive|Negative|Neutral)\\b\", re.IGNORECASE)\n",
    "\n",
    "def extract_label(output):\n",
    "    m = pattern.search(output)\n",
    "    return m.group(1).capitalize() if m else \"Unknown\"\n",
    "\n",
    "pred_labels = []\n",
    "batch_size = 4  # smaller batch to fit in T4 VRAM\n",
    "for i in range(0, len(texts), batch_size):\n",
    "    batch = texts[i:i+batch_size]\n",
    "    prompts = [PROMPT_TEMPLATE.format(text=t) for t in batch]\n",
    "    inputs = tokenizer(prompts, return_tensors=\"pt\", padding=True, truncation=True).to(DEVICE)\n",
    "\n",
    "    with torch.no_grad():\n",
    "        outputs = model.generate(\n",
    "            **inputs,\n",
    "            max_new_tokens=6,\n",
    "            do_sample=False,\n",
    "            temperature=0.0,\n",
    "            top_p=1.0,\n",
    "            pad_token_id=tokenizer.eos_token_id,\n",
    "        )\n",
    "\n",
    "    decoded = tokenizer.batch_decode(outputs, skip_special_tokens=True)\n",
    "    for prompt, full_out in zip(prompts, decoded):\n",
    "        gen = full_out[len(prompt):].strip() if full_out.startswith(prompt) else full_out\n",
    "        pred_labels.append(extract_label(gen))\n",
    "\n",
    "# --- Evaluation ---\n",
    "report = classification_report(true_labels, pred_labels, labels=LABELS, digits=4, zero_division=0)\n",
    "acc = accuracy_score(true_labels, pred_labels)\n",
    "print(\"\\n📊 Classification Report:\\n\")\n",
    "print(report)\n",
    "print(f\"Accuracy: {acc:.4f}\")"
   ]
  },
  {
   "cell_type": "code",
   "execution_count": null,
   "id": "cae303ed-0880-47d6-8bda-3d52bf925761",
   "metadata": {},
   "outputs": [],
   "source": []
  }
 ],
 "metadata": {
  "kernelspec": {
   "display_name": "Python 3 (ipykernel)",
   "language": "python",
   "name": "python3"
  },
  "language_info": {
   "codemirror_mode": {
    "name": "ipython",
    "version": 3
   },
   "file_extension": ".py",
   "mimetype": "text/x-python",
   "name": "python",
   "nbconvert_exporter": "python",
   "pygments_lexer": "ipython3",
   "version": "3.10.18"
  }
 },
 "nbformat": 4,
 "nbformat_minor": 5
}
