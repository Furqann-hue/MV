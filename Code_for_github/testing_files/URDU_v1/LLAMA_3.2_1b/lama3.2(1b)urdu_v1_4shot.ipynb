{
 "cells": [
  {
   "cell_type": "code",
   "execution_count": 1,
   "id": "bbde9da5-acf3-4362-bb2e-338c154d8a63",
   "metadata": {},
   "outputs": [],
   "source": [
    "# --- Imports ---\n",
    "import os\n",
    "import random\n",
    "import numpy as np\n",
    "import pandas as pd\n",
    "import torch\n",
    "from transformers import AutoTokenizer, AutoModelForCausalLM\n",
    "from sklearn.metrics import classification_report, accuracy_score\n",
    "import re"
   ]
  },
  {
   "cell_type": "code",
   "execution_count": 2,
   "id": "d4624f9a-4c47-48ba-880e-726adeecc79d",
   "metadata": {},
   "outputs": [],
   "source": [
    "# --- Configuration ---\n",
    "MODEL_NAME = \"meta-llama/Llama-3.2-1B-Instruct\" \n",
    "CSV_PATH = r\"C:\\Users\\stdFurqan\\Downloads\\urdu_v1\\test.csv\" \n",
    "TEXT_COL = \"Cleaned_Tweet\"\n",
    "LABEL_COL = \"Class\"\n",
    "LABELS = [\"P\", \"N\"]\n",
    "SEED = 20\n",
    "DEVICE = \"cuda\" if torch.cuda.is_available() else \"cpu\"\n",
    "\n",
    "# --- Reproducibility ---\n",
    "def set_seed(seed=20):\n",
    "    random.seed(seed)\n",
    "    np.random.seed(seed)\n",
    "    torch.manual_seed(seed)\n",
    "    if torch.cuda.is_available():\n",
    "        torch.cuda.manual_seed_all(seed)\n",
    "set_seed(SEED)"
   ]
  },
  {
   "cell_type": "code",
   "execution_count": 3,
   "id": "14cca0f3-6495-4fd9-a775-6aaaa4fb4077",
   "metadata": {},
   "outputs": [
    {
     "name": "stdout",
     "output_type": "stream",
     "text": [
      "🧠 Loading model from C:\\Users\\stdFurqan\\Downloads\\lama_models_download\\LAMA_3.2(1b) ...\n"
     ]
    },
    {
     "name": "stderr",
     "output_type": "stream",
     "text": [
      "`torch_dtype` is deprecated! Use `dtype` instead!\n",
      "The module name LAMA_3_dot_2(1b) (originally LAMA_3.2(1b)) is not a valid Python identifier. Please rename the original module to avoid import issues.\n"
     ]
    },
    {
     "name": "stdout",
     "output_type": "stream",
     "text": [
      "✅ Model loaded successfully from local directory!\n"
     ]
    }
   ],
   "source": [
    "# ✅ Local path where model is stored\n",
    "MODEL_PATH = r\"C:\\Users\\stdFurqan\\Downloads\\lama_models_download\\LAMA_3.2(1b)\"\n",
    "\n",
    "print(f\"🧠 Loading model from {MODEL_PATH} ...\")\n",
    "\n",
    "# ✅ Load tokenizer from local folder\n",
    "tokenizer = AutoTokenizer.from_pretrained(MODEL_PATH)\n",
    "tokenizer.pad_token = tokenizer.eos_token\n",
    "tokenizer.padding_side = \"left\"\n",
    "\n",
    "# ✅ Load model from local folder\n",
    "model = AutoModelForCausalLM.from_pretrained(\n",
    "    MODEL_PATH,\n",
    "    torch_dtype=torch.bfloat16,   # ✅ best for 40-series\n",
    "    device_map=\"auto\"\n",
    ")\n",
    "\n",
    "model.config.pad_token_id = tokenizer.pad_token_id\n",
    "model.eval()\n",
    "\n",
    "print(\"✅ Model loaded successfully from local directory!\")"
   ]
  },
  {
   "cell_type": "code",
   "execution_count": 4,
   "id": "6f991566-6386-42a9-8db2-a3701d28306d",
   "metadata": {},
   "outputs": [
    {
     "name": "stdout",
     "output_type": "stream",
     "text": [
      "['Cleaned_Tweet', 'Class']\n"
     ]
    }
   ],
   "source": [
    "# --- Load dataset ---\n",
    "df = pd.read_csv(CSV_PATH)\n",
    "# ✅ Clean up any extra spaces or tabs in column names\n",
    "df.columns = df.columns.str.strip()\n",
    "print(df.columns.tolist())\n"
   ]
  },
  {
   "cell_type": "code",
   "execution_count": 5,
   "id": "cae303ed-0880-47d6-8bda-3d52bf925761",
   "metadata": {},
   "outputs": [
    {
     "name": "stderr",
     "output_type": "stream",
     "text": [
      "The following generation flags are not valid and may be ignored: ['temperature']. Set `TRANSFORMERS_VERBOSITY=info` for more details.\n"
     ]
    },
    {
     "name": "stdout",
     "output_type": "stream",
     "text": [
      "\n",
      "📊 Classification Report:\n",
      "\n",
      "              precision    recall  f1-score   support\n",
      "\n",
      "           P     0.7188    0.1597    0.2614       144\n",
      "           N     0.3333    0.0067    0.0131       150\n",
      "\n",
      "   micro avg     0.6857    0.0816    0.1459       294\n",
      "   macro avg     0.5260    0.0832    0.1372       294\n",
      "weighted avg     0.5221    0.0816    0.1347       294\n",
      "\n",
      "Accuracy: 0.0816\n"
     ]
    }
   ],
   "source": [
    "\n",
    "\n",
    "\n",
    "\n",
    "texts = df[TEXT_COL].astype(str).tolist()\n",
    "true_labels = df[LABEL_COL].astype(str).tolist()\n",
    "\n",
    "PROMPT_TEMPLATE = (\n",
    "    \"You are an intelligent Urdu language assistant.\"\n",
    "    \"Classify the following news headline into one of these categories: Positive, or Negative based on the examples below.\\n\\n\"\n",
    "    \n",
    "    \"=== Positive Examples ===\\n\"\n",
    "    \"1 Text: کلاسک ویڈیو گیم کی شکل میں بنایا گیا منفرد کیک نیویارک کیک خواہ سالگرہ کا ہویا کسی اور\\n   Label: Positive\\n\"\n",
    "    \"2 Text: مجاہد اعظم مولانا غلام اعظم نے اپنی جوانی سے بڑھا پے تک صبر عزمیت اور مسلسل جدوجہد کی تاریخ رقم کر دی اس\\n   Label: Positive\\n\"\n",
    "    \"3 Text: میں آپکی بات سے اتفاق کرتا ہوں لیکن میں سب کی رائے لینا اور سننا پسند کرتا ہوں ایک عادی بھائی ہیں کبھی کام کی بات نئ کی پ سنتا\\n   Label: Positive\\n\"\n",
    "    \"4 Text: وینا ملک کا بیٹا سوشل میڈیا پر مقبولیت میں شلپا شیٹھی کے بیٹے سے آگے کراچی وینا ملک کے بیٹے ابرام خان\\n   Label: Positive\\n\\n\"\n",
    "\n",
    "    \"=== Negative Examples ===\\n\"\n",
    "    \"5 Text: سیالکوٹ ہندوستانی فورسز کی بلا اشتعال فائرنگ پاکستان کے صوبہ پنجاب کے شہر سیالکوٹ کی ورکنگ\\n   Label: Negative\\n\"\n",
    "    \"6 Text: کراچی میں تمام نیوز چینل کی بندشایم کیو ایم اور پاکستان مسلم لیگ زندہ بادپاکستان ملک ہے شہنشاہوں کا بدمعاشوں کا\\n   Label: Negative\\n\"\n",
    "    \"7 Text: ﻋﺎﻟﻤﯽ ﺍﺳﺘﻌﻤﺎﺭ ﺍﻣﺮﯾﮑﺎ ﻭ ﺍﺳﺮﺍﺋﯿﻞ ﺍﻭﺭﺍ ﻧﮑﮯ ﻧﻤﮏ ﺧﻮﺍﺭ ﺳﻌﻮﺩﯼ ﻋﺮﺏ ﮐﮯ ﺳﯿﻨﮯﻣﯿﮟ ﺧﻨﺠﺮ ﮐﯽ ﻣﺎﻧﻨﺪ ﻣﺎﮦ ﻣﺤﺮﻡ ﺻﻔﺮﺍﻭﺭ ﺭﺑﯿﻊ ﺍﻻﻭﻝ\\n   Label: Negative\\n\"\n",
    "    \"8 Text: جناب اسپیکر آج سے نون لیگ کو منافق لیگ کا نام دیا جائے کیونکہ نون لیگ نے سچ تو کبھی بولنا نہیں\\n   Label: Negative\\n\\n\" \n",
    "\n",
    "    \"Reply with only one word: P, or N.\\n\"\n",
    "    \"Now classify the following text in the same way.\\n\\n\"\n",
    "    \"Headline: {text}\\n\\nLabel:\"\n",
    ")\n",
    "\n",
    "\n",
    "pattern = re.compile(r\"\\b(P|N)\\b\", re.IGNORECASE)\n",
    "\n",
    "def extract_label(output):\n",
    "    m = pattern.search(output)\n",
    "    return m.group(1).capitalize() if m else \"Unknown\"\n",
    "\n",
    "pred_labels = []\n",
    "batch_size = 4  # smaller batch to fit in T4 VRAM\n",
    "for i in range(0, len(texts), batch_size):\n",
    "    batch = texts[i:i+batch_size]\n",
    "    prompts = [PROMPT_TEMPLATE.format(text=t) for t in batch]\n",
    "    inputs = tokenizer(prompts, return_tensors=\"pt\", padding=True, truncation=True).to(DEVICE)\n",
    "\n",
    "    with torch.no_grad():\n",
    "        outputs = model.generate(\n",
    "            **inputs,\n",
    "            max_new_tokens=6,\n",
    "            do_sample=False,\n",
    "            temperature=0.0,\n",
    "            top_p=1.0,\n",
    "            pad_token_id=tokenizer.eos_token_id,\n",
    "        )\n",
    "\n",
    "    decoded = tokenizer.batch_decode(outputs, skip_special_tokens=True)\n",
    "    for prompt, full_out in zip(prompts, decoded):\n",
    "        gen = full_out[len(prompt):].strip() if full_out.startswith(prompt) else full_out\n",
    "        pred_labels.append(extract_label(gen))\n",
    "\n",
    "# --- Evaluation ---\n",
    "report = classification_report(true_labels, pred_labels, labels=LABELS, digits=4, zero_division=0)\n",
    "acc = accuracy_score(true_labels, pred_labels)\n",
    "print(\"\\n📊 Classification Report:\\n\")\n",
    "print(report)\n",
    "print(f\"Accuracy: {acc:.4f}\")"
   ]
  },
  {
   "cell_type": "code",
   "execution_count": null,
   "id": "0700d37f-1b2b-44b1-8998-47c6ff2801ed",
   "metadata": {},
   "outputs": [],
   "source": []
  }
 ],
 "metadata": {
  "kernelspec": {
   "display_name": "Python 3 (ipykernel)",
   "language": "python",
   "name": "python3"
  },
  "language_info": {
   "codemirror_mode": {
    "name": "ipython",
    "version": 3
   },
   "file_extension": ".py",
   "mimetype": "text/x-python",
   "name": "python",
   "nbconvert_exporter": "python",
   "pygments_lexer": "ipython3",
   "version": "3.10.18"
  }
 },
 "nbformat": 4,
 "nbformat_minor": 5
}
