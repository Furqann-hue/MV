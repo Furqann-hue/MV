{
 "cells": [
  {
   "cell_type": "code",
   "execution_count": 1,
   "id": "bbde9da5-acf3-4362-bb2e-338c154d8a63",
   "metadata": {},
   "outputs": [],
   "source": [
    "# --- Imports ---\n",
    "import os\n",
    "import random\n",
    "import numpy as np\n",
    "import pandas as pd\n",
    "import torch\n",
    "from transformers import AutoTokenizer, AutoModelForCausalLM\n",
    "from sklearn.metrics import classification_report, accuracy_score\n",
    "import re"
   ]
  },
  {
   "cell_type": "code",
   "execution_count": 2,
   "id": "d4624f9a-4c47-48ba-880e-726adeecc79d",
   "metadata": {},
   "outputs": [],
   "source": [
    "# --- Configuration ---\n",
    "MODEL_NAME = \"meta-llama/Llama-3.2-1B-Instruct\"\n",
    "\n",
    "CSV_PATH = r\"C:\\Users\\stdFurqan\\Downloads\\arabic_ham_SPAM\\test.csv\"\n",
    "TEXT_COL = \"Cleaned Text\"\n",
    "LABEL_COL = \"Label\"\n",
    "LABELS = [\"Ham\", \"Spam\"]\n",
    "SEED = 20\n",
    "DEVICE = \"cuda\" if torch.cuda.is_available() else \"cpu\"\n",
    "\n",
    "# --- Reproducibility ---\n",
    "def set_seed(seed=20):\n",
    "    random.seed(seed)\n",
    "    np.random.seed(seed)\n",
    "    torch.manual_seed(seed)\n",
    "    if torch.cuda.is_available():\n",
    "        torch.cuda.manual_seed_all(seed)\n",
    "set_seed(SEED)"
   ]
  },
  {
   "cell_type": "code",
   "execution_count": 3,
   "id": "14cca0f3-6495-4fd9-a775-6aaaa4fb4077",
   "metadata": {},
   "outputs": [
    {
     "name": "stdout",
     "output_type": "stream",
     "text": [
      "🧠 Loading model from C:\\Users\\stdFurqan\\Downloads\\lama_models_download\\LAMA_3.2(1b) ...\n"
     ]
    },
    {
     "name": "stderr",
     "output_type": "stream",
     "text": [
      "`torch_dtype` is deprecated! Use `dtype` instead!\n",
      "The module name LAMA_3_dot_2(1b) (originally LAMA_3.2(1b)) is not a valid Python identifier. Please rename the original module to avoid import issues.\n"
     ]
    },
    {
     "name": "stdout",
     "output_type": "stream",
     "text": [
      "✅ Model loaded successfully from local directory!\n"
     ]
    }
   ],
   "source": [
    "# ✅ Local path where model is stored\n",
    "MODEL_PATH = r\"C:\\Users\\stdFurqan\\Downloads\\lama_models_download\\LAMA_3.2(1b)\"\n",
    "\n",
    "print(f\"🧠 Loading model from {MODEL_PATH} ...\")\n",
    "\n",
    "# ✅ Load tokenizer from local folder\n",
    "tokenizer = AutoTokenizer.from_pretrained(MODEL_PATH)\n",
    "tokenizer.pad_token = tokenizer.eos_token\n",
    "tokenizer.padding_side = \"left\"\n",
    "\n",
    "# ✅ Load model from local folder\n",
    "model = AutoModelForCausalLM.from_pretrained(\n",
    "    MODEL_PATH,\n",
    "    torch_dtype=torch.bfloat16,   # ✅ best for 40-series\n",
    "    device_map=\"auto\"\n",
    ")\n",
    "\n",
    "model.config.pad_token_id = tokenizer.pad_token_id\n",
    "model.eval()\n",
    "\n",
    "print(\"✅ Model loaded successfully from local directory!\")"
   ]
  },
  {
   "cell_type": "code",
   "execution_count": 4,
   "id": "4b6ff18d-d716-4336-8b51-a7ae8612f9ce",
   "metadata": {},
   "outputs": [],
   "source": [
    " \n",
    "# # Step 1: Training data (4-shot) ha,m and spam\n",
    "# train_dataset = [\n",
    "\n",
    "#     InputExample(guid=0, text_a=\"خبراء مختصون بالصحه العامه يؤكدون ان علي الناس ارتداء الاقنعه الواقيه والالتزام بالتباعد الاجتماعي حتي بعد تلقي القاح ضد كورونا العربيه\", label=0),\n",
    "#     InputExample(guid=1, text_a=\"مؤكدا تركيب نحو جهاز طرد مركزي متطور في منشاتي نطنز وفوردو الحكومه الايرانيه التراجع عن اعاده فرض العقوبات الاميه جيد لكن لا يكفي ايران العربيه\", label=0),\n",
    "#     InputExample(guid=2, text_a=\"بعد ان حكم عليه بالسجن سنوات بتهمه المساس بالوحده الوطنيه الحدث تواكب وصول المفرج عنه الصحفي خالد درارني الي منزله في الجزائر غداه اعلان العفو الرئاسي\", label=0),\n",
    "#     InputExample(guid=3, text_a=\"الصحه تجري فحصا ضمن خطها لتوسيع نطاق الفحوصات وتكشف عن اصابات جديده بفيروس كورونا المستجد و حاله شفاء و حاله وفاه خلال الساعات ال الماضيه\", label=0),\n",
    "\n",
    "#     InputExample(guid=4, text_a=\"النجاح يبدا مع شهاده الايلتس شهاده الايلتس معتمده كاثبات لكفاءه الغه الانجليزيه لغايات التعليم العالي والهجرات العالميه تواصل معنا الان واحصل علي ايلتس موثقه ومعتمده من قبل المعهد البريطاني الثقافي في خلال ايام التواصل عبر الخاص الهلال الرايد\", label=1),\n",
    "#     InputExample(guid=5, text_a=\"تخلص من التدخين باقصي سرعه و حافظ ع صحتك و صحه عائلتك حارب الحلول المؤقته مع مجموعه الاقلاع عن التدخين من مكونات الطبيعه لتواصل خاص\", label=1),\n",
    "#     InputExample(guid=6, text_a=\"البديل الامن والفعال لفياجرا والسنافي الماالتي ماكا اقوي علاج ل سرعه القذف قله الرغبه الجنسيه ضعف الانتصاب مشاكل البروستاتا عشبي امن لمرضي السكر والضغط لطلب حياكم التواصل واتساب رابط واتساب\", label=1),\n",
    "#     InputExample(guid=7, text_a=\"وزاره التجاره  تحذر من التجاوب او مجاراه اعلانات عبر الانترنت تستغل فيها صور بعض المشاهير لجذب العملاء لغرض التداول با\", label=1),\n",
    "# ]\n"
   ]
  },
  {
   "cell_type": "code",
   "execution_count": 5,
   "id": "82e4fa59-3c52-474e-af00-3c7cfa2fe9de",
   "metadata": {},
   "outputs": [
    {
     "name": "stderr",
     "output_type": "stream",
     "text": [
      "The following generation flags are not valid and may be ignored: ['temperature']. Set `TRANSFORMERS_VERBOSITY=info` for more details.\n"
     ]
    },
    {
     "name": "stdout",
     "output_type": "stream",
     "text": [
      "\n",
      "📊 Classification Report:\n",
      "\n",
      "              precision    recall  f1-score   support\n",
      "\n",
      "         Ham     0.9030    0.7637    0.8276      3390\n",
      "        Spam     0.2751    0.5223    0.3604       582\n",
      "\n",
      "    accuracy                         0.7283      3972\n",
      "   macro avg     0.5891    0.6430    0.5940      3972\n",
      "weighted avg     0.8110    0.7283    0.7591      3972\n",
      "\n",
      "Accuracy: 0.7283\n"
     ]
    }
   ],
   "source": [
    "\n",
    "\n",
    "# --- Load dataset ---\n",
    "df = pd.read_csv(CSV_PATH)\n",
    "texts = df[TEXT_COL].astype(str).tolist()\n",
    "true_labels = df[LABEL_COL].astype(str).tolist()\n",
    "\n",
    "PROMPT_TEMPLATE = (\n",
    "    \"You are an intelligent Arabic language assistant.\\n\"\n",
    "    \"Your task is to classify Arabic tweets as either Ham (normal/non-spam news or message) \"\n",
    "    \"or Spam (unsolicited, promotional, or advertisement content).\\n\"\n",
    "    \"Use the examples below as guidance.\\n\\n\"\n",
    "    \n",
    "    \"=== Ham Examples ===\\n\"\n",
    "    \"1 Text: خبراء مختصون بالصحه العامه يؤكدون ان علي الناس ارتداء الاقنعه الواقيه والالتزام بالتباعد الاجتماعي حتي بعد تلقي القاح ضد كورونا العربيه\\n   Label: Ham\\n\"\n",
    "    \"2 Text: مؤكدا تركيب نحو جهاز طرد مركزي متطور في منشاتي نطنز وفوردو الحكومه الايرانيه التراجع عن اعاده فرض العقوبات الاميه جيد لكن لا يكفي ايران العربيه\\n   Label: Ham\\n\"\n",
    "    \"3 Text: بعد ان حكم عليه بالسجن سنوات بتهمه المساس بالوحده الوطنيه الحدث تواكب وصول المفرج عنه الصحفي خالد درارني الي منزله في الجزائر غداه اعلان العفو الرئاسي\\n   Label: Ham\\n\"\n",
    "    \"4 Text: الصحه تجري فحصا ضمن خطها لتوسيع نطاق الفحوصات وتكشف عن اصابات جديده بفيروس كورونا المستجد و حاله شفاء و حاله وفاه خلال الساعات ال الماضيه\\n   Label: Ham\\n\\n\"\n",
    "\n",
    "    \"=== Spam Examples ===\\n\"\n",
    "    \"5 Text: النجاح يبدا مع شهاده الايلتس شهاده الايلتس معتمده كاثبات لكفاءه الغه الانجليزيه لغايات التعليم العالي والهجرات العالميه تواصل معنا الان واحصل علي ايلتس موثقه ومعتمده من قبل المعهد البريطاني الثقافي في خلال ايام التواصل عبر الخاص الهلال الرايد\\n   Label: Spam\\n\"\n",
    "    \"6 Text: تخلص من التدخين باقصي سرعه و حافظ ع صحتك و صحه عائلتك حارب الحلول المؤقته مع مجموعه الاقلاع عن التدخين من مكونات الطبيعه لتواصل خاص\\n   Label: Spam\\n\"\n",
    "    \"7 Text: البديل الامن والفعال لفياجرا والسنافي الماالتي ماكا اقوي علاج ل سرعه القذف قله الرغبه الجنسيه ضعف الانتصاب مشاكل البروستاتا عشبي امن لمرضي السكر والضغط لطلب حياكم التواصل واتساب رابط واتساب\\n   Label: Spam\\n\"\n",
    "    \"8 Text: وزاره التجاره  تحذر من التجاوب او مجاراه اعلانات عبر الانترنت تستغل فيها صور بعض المشاهير لجذب العملاء لغرض التداول با\\n   Label: Spam\\n\\n\"\n",
    "         \n",
    "    \"Reply with only one word: Ham, or Spam.\\n\"\n",
    "    \"Now classify the following text in the same way.\\n\\n\"\n",
    "    \"Text: {text}\\n\\n\"\n",
    "    \"Label:\"\n",
    ")\n",
    "\n",
    "\n",
    "pattern = re.compile(r\"\\b(Ham|Spam)\\b\", re.IGNORECASE)\n",
    "\n",
    "def extract_label(output):\n",
    "    m = pattern.search(output)\n",
    "    return m.group(1).capitalize() if m else \"Unknown\"\n",
    "\n",
    "pred_labels = []\n",
    "batch_size = 4  # smaller batch to fit in T4 VRAM\n",
    "for i in range(0, len(texts), batch_size):\n",
    "    batch = texts[i:i+batch_size]\n",
    "    prompts = [PROMPT_TEMPLATE.format(text=t) for t in batch]\n",
    "    inputs = tokenizer(prompts, return_tensors=\"pt\", padding=True, truncation=True).to(DEVICE)\n",
    "\n",
    "    with torch.no_grad():\n",
    "        outputs = model.generate(\n",
    "            **inputs,\n",
    "            max_new_tokens=6,\n",
    "            do_sample=False,\n",
    "            temperature=0.0,\n",
    "            top_p=1.0,\n",
    "            pad_token_id=tokenizer.eos_token_id,\n",
    "        )\n",
    "\n",
    "    decoded = tokenizer.batch_decode(outputs, skip_special_tokens=True)\n",
    "    for prompt, full_out in zip(prompts, decoded):\n",
    "        gen = full_out[len(prompt):].strip() if full_out.startswith(prompt) else full_out\n",
    "        pred_labels.append(extract_label(gen))\n",
    "\n",
    "# --- Evaluation ---\n",
    "report = classification_report(true_labels, pred_labels, labels=LABELS, digits=4, zero_division=0)\n",
    "acc = accuracy_score(true_labels, pred_labels)\n",
    "print(\"\\n📊 Classification Report:\\n\")\n",
    "print(report)\n",
    "print(f\"Accuracy: {acc:.4f}\")"
   ]
  },
  {
   "cell_type": "code",
   "execution_count": null,
   "id": "cae303ed-0880-47d6-8bda-3d52bf925761",
   "metadata": {},
   "outputs": [],
   "source": []
  }
 ],
 "metadata": {
  "kernelspec": {
   "display_name": "Python 3 (ipykernel)",
   "language": "python",
   "name": "python3"
  },
  "language_info": {
   "codemirror_mode": {
    "name": "ipython",
    "version": 3
   },
   "file_extension": ".py",
   "mimetype": "text/x-python",
   "name": "python",
   "nbconvert_exporter": "python",
   "pygments_lexer": "ipython3",
   "version": "3.10.18"
  }
 },
 "nbformat": 4,
 "nbformat_minor": 5
}
