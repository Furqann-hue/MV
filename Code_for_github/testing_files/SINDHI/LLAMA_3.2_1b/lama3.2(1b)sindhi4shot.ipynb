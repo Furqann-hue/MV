{
 "cells": [
  {
   "cell_type": "code",
   "execution_count": 1,
   "id": "bbde9da5-acf3-4362-bb2e-338c154d8a63",
   "metadata": {},
   "outputs": [],
   "source": [
    "# --- Imports ---\n",
    "import os\n",
    "import random\n",
    "import numpy as np\n",
    "import pandas as pd\n",
    "import torch\n",
    "from transformers import AutoTokenizer, AutoModelForCausalLM\n",
    "from sklearn.metrics import classification_report, accuracy_score\n",
    "import re"
   ]
  },
  {
   "cell_type": "code",
   "execution_count": 2,
   "id": "d4624f9a-4c47-48ba-880e-726adeecc79d",
   "metadata": {},
   "outputs": [],
   "source": [
    "# --- Configuration ---\n",
    "MODEL_NAME = \"meta-llama/Llama-3.2-1B-Instruct\" \n",
    "CSV_PATH = r\"C:\\Users\\stdFurqan\\Desktop\\Sindhi (politics)\\split_30.csv\"\n",
    "TEXT_COL = \"News Headlines\"\n",
    "LABEL_COL = \"Aspect Category\"\n",
    "LABELS = [\"Crime\", \"Sports\", \"Politics\"]\n",
    "SEED = 20\n",
    "DEVICE = \"cuda\" if torch.cuda.is_available() else \"cpu\"\n",
    "\n",
    "# --- Reproducibility ---\n",
    "def set_seed(seed=20):\n",
    "    random.seed(seed)\n",
    "    np.random.seed(seed)\n",
    "    torch.manual_seed(seed)\n",
    "    if torch.cuda.is_available():\n",
    "        torch.cuda.manual_seed_all(seed)\n",
    "set_seed(SEED)"
   ]
  },
  {
   "cell_type": "code",
   "execution_count": 3,
   "id": "14cca0f3-6495-4fd9-a775-6aaaa4fb4077",
   "metadata": {},
   "outputs": [
    {
     "name": "stdout",
     "output_type": "stream",
     "text": [
      "🧠 Loading model from C:\\Users\\stdFurqan\\Downloads\\lama_models_download\\LAMA_3.2(1b) ...\n",
      "✅ Model loaded successfully from local directory!\n"
     ]
    }
   ],
   "source": [
    "# ✅ Local path where model is stored\n",
    "MODEL_PATH = r\"C:\\Users\\stdFurqan\\Downloads\\lama_models_download\\LAMA_3.2(1b)\"\n",
    "\n",
    "print(f\"🧠 Loading model from {MODEL_PATH} ...\")\n",
    "\n",
    "# ✅ Load tokenizer from local folder\n",
    "tokenizer = AutoTokenizer.from_pretrained(MODEL_PATH)\n",
    "tokenizer.pad_token = tokenizer.eos_token\n",
    "tokenizer.padding_side = \"left\"\n",
    "\n",
    "# ✅ Load model from local folder\n",
    "model = AutoModelForCausalLM.from_pretrained(\n",
    "    MODEL_PATH,\n",
    "    torch_dtype=torch.bfloat16,   # ✅ best for 40-series\n",
    "    device_map=\"auto\"\n",
    ")\n",
    "\n",
    "model.config.pad_token_id = tokenizer.pad_token_id\n",
    "model.eval()\n",
    "\n",
    "print(\"✅ Model loaded successfully from local directory!\")"
   ]
  },
  {
   "cell_type": "code",
   "execution_count": 6,
   "id": "6f991566-6386-42a9-8db2-a3701d28306d",
   "metadata": {},
   "outputs": [
    {
     "name": "stdout",
     "output_type": "stream",
     "text": [
      "['Aspect Category', 'News Headlines']\n"
     ]
    }
   ],
   "source": [
    "# --- Load dataset ---\n",
    "df = pd.read_csv(CSV_PATH)\n",
    "# ✅ Clean up any extra spaces or tabs in column names\n",
    "df.columns = df.columns.str.strip()\n",
    "print(df.columns.tolist())\n"
   ]
  },
  {
   "cell_type": "code",
   "execution_count": 7,
   "id": "82e4fa59-3c52-474e-af00-3c7cfa2fe9de",
   "metadata": {},
   "outputs": [
    {
     "name": "stderr",
     "output_type": "stream",
     "text": [
      "C:\\Users\\stdFurqan\\anaconda3\\envs\\py312\\Lib\\site-packages\\transformers\\generation\\configuration_utils.py:567: UserWarning: `do_sample` is set to `False`. However, `temperature` is set to `0.0` -- this flag is only used in sample-based generation modes. You should set `do_sample=True` or unset `temperature`.\n",
      "  warnings.warn(\n"
     ]
    },
    {
     "name": "stdout",
     "output_type": "stream",
     "text": [
      "\n",
      "📊 Classification Report:\n",
      "\n",
      "              precision    recall  f1-score   support\n",
      "\n",
      "       Crime     0.5736    0.7951    0.6665      1440\n",
      "      Sports     1.0000    0.0104    0.0207      1245\n",
      "    Politics     0.6058    0.7853    0.6840      2282\n",
      "\n",
      "    accuracy                         0.5939      4967\n",
      "   macro avg     0.7265    0.5303    0.4570      4967\n",
      "weighted avg     0.6953    0.5939    0.5126      4967\n",
      "\n",
      "Accuracy: 0.5939\n"
     ]
    }
   ],
   "source": [
    "\n",
    "\n",
    "\n",
    "\n",
    "texts = df[TEXT_COL].astype(str).tolist()\n",
    "true_labels = df[LABEL_COL].astype(str).tolist()\n",
    "\n",
    "PROMPT_TEMPLATE = (\n",
    "    \"You are an intelligent Sindhi language assistant. \"\n",
    "    \"Classify the following news headline into one of these categories: Crime, Sports, or Politics based on the examples below.\\n\\n\"\n",
    "    \n",
    "    \"=== Politics Examples ===\\n\"\n",
    "    \"1 Text: بلوچستان ۾ ايراني سرزمين تان ٻيهر حملو، پاڪ فوج جا 4 جوان شهيد\\n   Label: Politics\\n\"\n",
    "    \"2 Text: سپريم ڪورٽ ۾ قرآن پاڪ جي حافظ کي 20 واڌو نمبر ڏيڻ بابت پاڻمرادي نوٽيس ۾ جسٽس قاضي فائز عيسيٰ جي سربراهي ۾ 3 رڪني خاص بئنچ فيصلو جاري ڪيو\\n   Label: Politics\\n\"\n",
    "    \"3 Text: واضح رهي ته ڪيرول ئي نه پر ڪيترين ئي عورتن اڳوڻي آمريڪي صدر تي جنسي ڏاڍائي ۾ ملوث هجڻ جا الزام لڳايا آهن.\\n   Label: Politics\\n\"\n",
    "    \"4 Text: پيادل قافلي جي ڀرپور آجيان ڪري مٿن گلن جي ورکا ڪئي وئي.\\n   Label: Politics\\n\\n\"\n",
    "\n",
    "    \"=== Sports Examples ===\\n\"\n",
    "    \"5 Text: نيپال جي ڪرڪيٽ ميچ ڊي ايل ايس ميٿڊ تحت ون ڊي ۾ 9 وڪيٽن تي يو اي اي جي ٽيم کي شڪست ڏئي ڇڏي آهي\\n   Label: Sports\\n\"\n",
    "    \"6 Text: هوڏانهن ٻئي سيمي فائنل ۾ وري آريانا سيبالينڪا يونان جي ماريا سڪاري کي شڪست ڏئي فائنل ۾ جڳهه ٺاهي آهي، هاڻ فائنل ۾ آريانا سيبالينڪا ۽ ايلانا ريباڪنا آمهون سامهون ٿينديون.\\n   Label: Sports\\n\"\n",
    "    \"7 Text: جڏهن تھ سريلنڪا ويمن جي ٽيم 19 اوور ۾ رڳو 3 وڪيٽن جي نقصان تي هدف پورو ڪري ڪاميابي ماڻي ورتي، جن ۾ چماري اتاپٽو 33، هرشيٿا سماراوڪرما 29، ڪويشا ڊلهاري 20 رنسن سان نمايان رهيون\\n   Label: Sports\\n\"\n",
    "    \"8 Text: ڪرسٽيانو رونالڊو 2023ع دوران 38 گول ڪري سڀني کان اڳيان نڪري ويو\\n   Label: Sports\\n\\n\"\n",
    "\n",
    "    \"=== Crime Examples ===\\n\"\n",
    "    \"9 Text: پر گڏيل قومن جي هڪ بيان ۾ چيو ويو آهي ته موت جي سزا ماڻيندڙن جو اصل انگ ان کان وڌيڪ آهي.\\n   Label: Crime\\n\"\n",
    "    \"10 Text: هڪ عورت کي سندس ڌيءَ سميت ڏوهاري اغوا ڪري ويا.\\n   Label: Crime\\n\"\n",
    "    \"11 Text: پرڏيهي ميڊيا موجب ان ڳالهه جو انڪشاف هڪ ايراني نائب وزير يونس پناهي ڪيو آهي، جنهن چيو آهي ته ايران ۾ اسڪول جي ڇوڪرين کي زهر ڏنو ويو\\n   Label: Crime\\n\"\n",
    "    \"12 Text: ڳڙهي خدابخش کوسو ۾ نينگري جي قتل جو الزام.\\n   Label: Crime\\n\\n\"\n",
    "\n",
    "    \"Reply with only one word: Politics, Sports, or Crime.\\n\"\n",
    "    \"Now classify the following text in the same way.\\n\\n\"\n",
    "    \"Text: {text}\\n\\n\"\n",
    "    \"Label:\"\n",
    ")\n",
    "\n",
    "pattern = re.compile(r\"\\b(Politics|Sports|Crime)\\b\", re.IGNORECASE)\n",
    "\n",
    "def extract_label(output):\n",
    "    m = pattern.search(output)\n",
    "    return m.group(1).capitalize() if m else \"Unknown\"\n",
    "\n",
    "pred_labels = []\n",
    "batch_size = 4  # smaller batch to fit in T4 VRAM\n",
    "for i in range(0, len(texts), batch_size):\n",
    "    batch = texts[i:i+batch_size]\n",
    "    prompts = [PROMPT_TEMPLATE.format(text=t) for t in batch]\n",
    "    inputs = tokenizer(prompts, return_tensors=\"pt\", padding=True, truncation=True).to(DEVICE)\n",
    "\n",
    "    with torch.no_grad():\n",
    "        outputs = model.generate(\n",
    "            **inputs,\n",
    "            max_new_tokens=6,\n",
    "            do_sample=False,\n",
    "            temperature=0.0,\n",
    "            top_p=1.0,\n",
    "            pad_token_id=tokenizer.eos_token_id,\n",
    "        )\n",
    "\n",
    "    decoded = tokenizer.batch_decode(outputs, skip_special_tokens=True)\n",
    "    for prompt, full_out in zip(prompts, decoded):\n",
    "        gen = full_out[len(prompt):].strip() if full_out.startswith(prompt) else full_out\n",
    "        pred_labels.append(extract_label(gen))\n",
    "\n",
    "# --- Evaluation ---\n",
    "report = classification_report(true_labels, pred_labels, labels=LABELS, digits=4, zero_division=0)\n",
    "acc = accuracy_score(true_labels, pred_labels)\n",
    "print(\"\\n📊 Classification Report:\\n\")\n",
    "print(report)\n",
    "print(f\"Accuracy: {acc:.4f}\")"
   ]
  },
  {
   "cell_type": "code",
   "execution_count": null,
   "id": "cae303ed-0880-47d6-8bda-3d52bf925761",
   "metadata": {},
   "outputs": [],
   "source": []
  }
 ],
 "metadata": {
  "kernelspec": {
   "display_name": "Python 3 (ipykernel)",
   "language": "python",
   "name": "python3"
  },
  "language_info": {
   "codemirror_mode": {
    "name": "ipython",
    "version": 3
   },
   "file_extension": ".py",
   "mimetype": "text/x-python",
   "name": "python",
   "nbconvert_exporter": "python",
   "pygments_lexer": "ipython3",
   "version": "3.10.18"
  }
 },
 "nbformat": 4,
 "nbformat_minor": 5
}
